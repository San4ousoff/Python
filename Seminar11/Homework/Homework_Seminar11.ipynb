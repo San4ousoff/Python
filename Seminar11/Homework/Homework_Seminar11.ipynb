{
 "cells": [
  {
   "cell_type": "markdown",
   "id": "570bbee9",
   "metadata": {},
   "source": [
    "### ДЗ к семинару 11\n",
    "\n",
    "- Формула: f(x) = −5𝑥2+10𝑥−150\n",
    "\n",
    "1. Построить график\n",
    "2. Определить корни\n",
    "3. Определить промежутки, на котором f > 0\n",
    "4. Определить промежутки, на котором f < 0\n",
    "5. Вычислить вершину\n",
    "6. Найти интервалы, на которых функция возрастает\n",
    "7. Найти интервалы, на которых функция убывает"
   ]
  },
  {
   "cell_type": "code",
   "execution_count": 22,
   "id": "7b7893bc",
   "metadata": {},
   "outputs": [],
   "source": [
    "from sympy import *\n",
    "from sympy.plotting import plot"
   ]
  },
  {
   "cell_type": "code",
   "execution_count": 23,
   "id": "39aa33aa",
   "metadata": {},
   "outputs": [],
   "source": [
    "x = Symbol('x')"
   ]
  },
  {
   "cell_type": "code",
   "execution_count": 24,
   "id": "ef185d1a",
   "metadata": {},
   "outputs": [
    {
     "data": {
      "text/latex": [
       "$\\displaystyle - 5 x^{2} + 10 x - 150$"
      ],
      "text/plain": [
       "-5*x**2 + 10*x - 150"
      ]
     },
     "execution_count": 24,
     "metadata": {},
     "output_type": "execute_result"
    }
   ],
   "source": [
    "fx = -5*x**2 + 10*x - 150\n",
    "fx"
   ]
  },
  {
   "cell_type": "markdown",
   "id": "df263599",
   "metadata": {},
   "source": [
    "### График функции"
   ]
  },
  {
   "cell_type": "code",
   "execution_count": 25,
   "id": "1adfb600",
   "metadata": {},
   "outputs": [
    {
     "data": {
      "image/png": "[encoded data removed]",
      "text/plain": [
       "<Figure size 640x480 with 1 Axes>"
      ]
     },
     "metadata": {},
     "output_type": "display_data"
    },
    {
     "data": {
      "text/plain": [
       "<sympy.plotting.plot.Plot at 0x1ac32405670>"
      ]
     },
     "execution_count": 25,
     "metadata": {},
     "output_type": "execute_result"
    }
   ],
   "source": [
    "plot(fx)"
   ]
  },
  {
   "cell_type": "markdown",
   "id": "18e667e6",
   "metadata": {},
   "source": [
    "### Корни"
   ]
  },
  {
   "cell_type": "code",
   "execution_count": 62,
   "id": "abcf7355",
   "metadata": {},
   "outputs": [
    {
     "name": "stdout",
     "output_type": "stream",
     "text": [
      "1 - sqrt(29)*I ; 1 + sqrt(29)*I\n"
     ]
    }
   ],
   "source": [
    "x1, x2 = solve(fx, x)\n",
    "print(x1,';', x2)"
   ]
  },
  {
   "cell_type": "markdown",
   "id": "98d1fdb5",
   "metadata": {},
   "source": [
    "### Промежутки на которых функция больше 0"
   ]
  },
  {
   "cell_type": "code",
   "execution_count": 27,
   "id": "d59e62b5",
   "metadata": {},
   "outputs": [
    {
     "data": {
      "text/latex": [
       "$\\displaystyle \\text{False}$"
      ],
      "text/plain": [
       "False"
      ]
     },
     "execution_count": 27,
     "metadata": {},
     "output_type": "execute_result"
    }
   ],
   "source": [
    "solve(fx>0)"
   ]
  },
  {
   "cell_type": "markdown",
   "id": "e47b25fc",
   "metadata": {},
   "source": [
    "### Промежутки на которых функция меньше 0"
   ]
  },
  {
   "cell_type": "code",
   "execution_count": 28,
   "id": "fffbcfcc",
   "metadata": {},
   "outputs": [
    {
     "data": {
      "text/latex": [
       "$\\displaystyle -\\infty < x \\wedge x < \\infty$"
      ],
      "text/plain": [
       "(-oo < x) & (x < oo)"
      ]
     },
     "execution_count": 28,
     "metadata": {},
     "output_type": "execute_result"
    }
   ],
   "source": [
    "solve(fx<0)"
   ]
  },
  {
   "cell_type": "markdown",
   "id": "3b7cb020",
   "metadata": {},
   "source": [
    "### Вершина"
   ]
  },
  {
   "cell_type": "code",
   "execution_count": 46,
   "id": "5d43e12f",
   "metadata": {},
   "outputs": [
    {
     "data": {
      "text/latex": [
       "$\\displaystyle 1$"
      ],
      "text/plain": [
       "1"
      ]
     },
     "execution_count": 46,
     "metadata": {},
     "output_type": "execute_result"
    }
   ],
   "source": [
    "solve(diff(fx))[0]"
   ]
  },
  {
   "cell_type": "markdown",
   "id": "5d3dcf65",
   "metadata": {},
   "source": [
    "### Интервал, на котором функция возрастает"
   ]
  },
  {
   "cell_type": "code",
   "execution_count": 32,
   "id": "1101cf54",
   "metadata": {
    "scrolled": true
   },
   "outputs": [
    {
     "data": {
      "text/latex": [
       "$\\displaystyle -\\infty < x \\wedge x < 1$"
      ],
      "text/plain": [
       "(-oo < x) & (x < 1)"
      ]
     },
     "execution_count": 32,
     "metadata": {},
     "output_type": "execute_result"
    }
   ],
   "source": [
    "solve(diff(fx)>0)"
   ]
  },
  {
   "cell_type": "markdown",
   "id": "c8e348bc",
   "metadata": {},
   "source": [
    "### Интервал, на котором функция убывает"
   ]
  },
  {
   "cell_type": "code",
   "execution_count": 31,
   "id": "c28bfc29",
   "metadata": {},
   "outputs": [
    {
     "data": {
      "text/latex": [
       "$\\displaystyle 1 < x \\wedge x < \\infty$"
      ],
      "text/plain": [
       "(1 < x) & (x < oo)"
      ]
     },
     "execution_count": 31,
     "metadata": {},
     "output_type": "execute_result"
    }
   ],
   "source": [
    "solve(diff(fx)<0)"
   ]
  }
 ],
 "metadata": {
  "kernelspec": {
   "display_name": "Python 3 (ipykernel)",
   "language": "python",
   "name": "python3"
  },
  "language_info": {
   "codemirror_mode": {
    "name": "ipython",
    "version": 3
   },
   "file_extension": ".py",
   "mimetype": "text/x-python",
   "name": "python",
   "nbconvert_exporter": "python",
   "pygments_lexer": "ipython3",
   "version": "3.9.13"
  }
 },
 "nbformat": 4,
 "nbformat_minor": 5
}
